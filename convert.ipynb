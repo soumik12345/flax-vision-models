{
 "cells": [
  {
   "cell_type": "code",
   "execution_count": null,
   "metadata": {},
   "outputs": [],
   "source": [
    "import jax\n",
    "import jax.numpy as jnp\n",
    "\n",
    "import json\n",
    "from PIL import Image\n",
    "import matplotlib.pyplot as plt\n",
    "\n",
    "import tensorflow as tf\n",
    "from flax_models.vgg import build_vgg16"
   ]
  },
  {
   "cell_type": "code",
   "execution_count": null,
   "metadata": {},
   "outputs": [],
   "source": [
    "!wget https://cdn.pixabay.com/photo/2013/05/29/22/25/elephant-114543_960_720.jpg\n",
    "!wget https://github.com/pytorch/hub/raw/master/images/dog.jpg\n",
    "!wget https://raw.githubusercontent.com/anishathalye/imagenet-simple-labels/master/imagenet-simple-labels.json"
   ]
  },
  {
   "cell_type": "code",
   "execution_count": null,
   "metadata": {},
   "outputs": [],
   "source": [
    "model = tf.keras.applications.VGG16(\n",
    "    include_top=True,\n",
    "    weights=\"imagenet\",\n",
    "    input_tensor=None,\n",
    "    input_shape=None,\n",
    "    pooling=None,\n",
    "    classes=1000,\n",
    "    classifier_activation=\"softmax\",\n",
    ")"
   ]
  },
  {
   "cell_type": "code",
   "execution_count": null,
   "metadata": {},
   "outputs": [],
   "source": [
    "jax_model, jax_params = build_vgg16(show_parameter_overview=True)"
   ]
  },
  {
   "cell_type": "code",
   "execution_count": null,
   "metadata": {},
   "outputs": [],
   "source": [
    "print([weight.name for weight in model.weights])"
   ]
  },
  {
   "cell_type": "code",
   "execution_count": null,
   "metadata": {},
   "outputs": [],
   "source": [
    "jax_params[\"params\"].keys(), jax_params[\"params\"][\"VGGBlock_0\"].keys(), jax_params[\"params\"][\"VGGBlock_0\"][\"Conv_0\"].keys()"
   ]
  },
  {
   "cell_type": "code",
   "execution_count": null,
   "metadata": {},
   "outputs": [],
   "source": [
    "pre_trained_params = {\n",
    "    \"params\": {\n",
    "        \"VGGBlock_0\": {\n",
    "            \"Conv_0\":  {\n",
    "                \"kernel\": model.weights[0].numpy(),\n",
    "                \"bias\": model.weights[1].numpy()\n",
    "            },\n",
    "            \"Conv_1\":  {\n",
    "                \"kernel\": model.weights[2].numpy(),\n",
    "                \"bias\": model.weights[3].numpy()\n",
    "            },\n",
    "        },\n",
    "        \"VGGBlock_1\": {\n",
    "            \"Conv_0\":  {\n",
    "                \"kernel\": model.weights[4].numpy(),\n",
    "                \"bias\": model.weights[5].numpy()\n",
    "            },\n",
    "            \"Conv_1\":  {\n",
    "                \"kernel\": model.weights[6].numpy(),\n",
    "                \"bias\": model.weights[7].numpy()\n",
    "            },\n",
    "        },\n",
    "        \"VGGBlock_2\": {\n",
    "            \"Conv_0\":  {\n",
    "                \"kernel\": model.weights[8].numpy(),\n",
    "                \"bias\": model.weights[9].numpy()\n",
    "            },\n",
    "            \"Conv_1\":  {\n",
    "                \"kernel\": model.weights[10].numpy(),\n",
    "                \"bias\": model.weights[11].numpy()\n",
    "            },\n",
    "            \"Conv_2\":  {\n",
    "                \"kernel\": model.weights[12].numpy(),\n",
    "                \"bias\": model.weights[13].numpy()\n",
    "            },\n",
    "        },\n",
    "        \"VGGBlock_3\": {\n",
    "            \"Conv_0\":  {\n",
    "                \"kernel\": model.weights[14].numpy(),\n",
    "                \"bias\": model.weights[15].numpy()\n",
    "            },\n",
    "            \"Conv_1\":  {\n",
    "                \"kernel\": model.weights[16].numpy(),\n",
    "                \"bias\": model.weights[17].numpy()\n",
    "            },\n",
    "            \"Conv_2\":  {\n",
    "                \"kernel\": model.weights[18].numpy(),\n",
    "                \"bias\": model.weights[19].numpy()\n",
    "            },\n",
    "        },\n",
    "        \"VGGBlock_4\": {\n",
    "            \"Conv_0\":  {\n",
    "                \"kernel\": model.weights[20].numpy(),\n",
    "                \"bias\": model.weights[21].numpy()\n",
    "            },\n",
    "            \"Conv_1\":  {\n",
    "                \"kernel\": model.weights[22].numpy(),\n",
    "                \"bias\": model.weights[23].numpy()\n",
    "            },\n",
    "            \"Conv_2\":  {\n",
    "                \"kernel\": model.weights[24].numpy(),\n",
    "                \"bias\": model.weights[25].numpy()\n",
    "            },\n",
    "        },\n",
    "        \"Dense_0\":  {\n",
    "            \"kernel\": model.weights[26].numpy(),\n",
    "            \"bias\": model.weights[27].numpy()\n",
    "        },\n",
    "        \"Dense_1\":  {\n",
    "            \"kernel\": model.weights[28].numpy(),\n",
    "            \"bias\": model.weights[29].numpy()\n",
    "        },\n",
    "        \"Dense_2\":  {\n",
    "            \"kernel\": model.weights[30].numpy(),\n",
    "            \"bias\": model.weights[31].numpy()\n",
    "        },\n",
    "    }\n",
    "}"
   ]
  },
  {
   "cell_type": "code",
   "execution_count": null,
   "metadata": {},
   "outputs": [],
   "source": [
    "image = Image.open('elephant-114543_960_720.jpg')\n",
    "\n",
    "plt.imshow(image)\n",
    "plt.show()\n",
    "\n",
    "image = image.resize((224, 224))\n",
    "x = tf.keras.preprocessing.image.img_to_array(image)\n",
    "x = tf.keras.applications.vgg16.preprocess_input(x)\n",
    "x = jnp.expand_dims(x, axis=0)\n",
    "\n",
    "key = jax.random.PRNGKey(0)\n",
    "\n",
    "out = jax_model.apply(pre_trained_params, x)\n",
    "top5_probs, top5_classes = jax.lax.top_k(out, k=5)\n",
    "top5_probs = jnp.squeeze(top5_probs, axis=0)\n",
    "top5_classes = jnp.squeeze(top5_classes, axis=0)\n",
    "\n",
    "labels = json.load(open('imagenet-simple-labels.json'))\n",
    "for i in range(top5_classes.shape[0]):\n",
    "    print(labels[top5_classes[i]], top5_probs[i])"
   ]
  },
  {
   "cell_type": "code",
   "execution_count": null,
   "metadata": {},
   "outputs": [],
   "source": [
    "image = Image.open('dog.jpg')\n",
    "\n",
    "plt.imshow(image)\n",
    "plt.show()\n",
    "\n",
    "image = image.resize((224, 224))\n",
    "x = tf.keras.preprocessing.image.img_to_array(image)\n",
    "x = tf.keras.applications.vgg16.preprocess_input(x)\n",
    "x = jnp.expand_dims(x, axis=0)\n",
    "\n",
    "key = jax.random.PRNGKey(0)\n",
    "\n",
    "out = jax_model.apply(pre_trained_params, x)\n",
    "top5_probs, top5_classes = jax.lax.top_k(out, k=5)\n",
    "top5_probs = jnp.squeeze(top5_probs, axis=0)\n",
    "top5_classes = jnp.squeeze(top5_classes, axis=0)\n",
    "\n",
    "labels = json.load(open('imagenet-simple-labels.json'))\n",
    "for i in range(top5_classes.shape[0]):\n",
    "    print(labels[top5_classes[i]], top5_probs[i])"
   ]
  },
  {
   "cell_type": "code",
   "execution_count": null,
   "metadata": {},
   "outputs": [],
   "source": []
  }
 ],
 "metadata": {
  "interpreter": {
   "hash": "c56844588c62bf6693d5f81f7506ef2718ef7b4ec69a19d7a30df3160c8fa2ca"
  },
  "kernelspec": {
   "display_name": "Python 3.10.4 ('jax')",
   "language": "python",
   "name": "python3"
  },
  "language_info": {
   "codemirror_mode": {
    "name": "ipython",
    "version": 3
   },
   "file_extension": ".py",
   "mimetype": "text/x-python",
   "name": "python",
   "nbconvert_exporter": "python",
   "pygments_lexer": "ipython3",
   "version": "3.10.4"
  },
  "orig_nbformat": 4
 },
 "nbformat": 4,
 "nbformat_minor": 2
}
