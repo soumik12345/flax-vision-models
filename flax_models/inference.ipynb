{
 "cells": [
  {
   "cell_type": "code",
   "execution_count": null,
   "metadata": {},
   "outputs": [],
   "source": [
    "import sys\n",
    "\n",
    "sys.path.append(\"../\")"
   ]
  },
  {
   "cell_type": "code",
   "execution_count": null,
   "metadata": {},
   "outputs": [],
   "source": [
    "import jax\n",
    "import jax.numpy as jnp\n",
    "\n",
    "import os\n",
    "import json\n",
    "import wandb\n",
    "from PIL import Image\n",
    "import matplotlib.pyplot as plt\n",
    "\n",
    "import tensorflow as tf\n",
    "from flax_models.vgg import build_vgg16"
   ]
  },
  {
   "cell_type": "code",
   "execution_count": null,
   "metadata": {},
   "outputs": [],
   "source": [
    "wandb.init(project=\"flax-vision-models\", entity=\"geekyrakshit\", job_type=\"inference\")"
   ]
  },
  {
   "cell_type": "code",
   "execution_count": null,
   "metadata": {},
   "outputs": [],
   "source": [
    "model, params = build_vgg16(show_parameter_overview=True, pretrained=True)"
   ]
  },
  {
   "cell_type": "code",
   "execution_count": null,
   "metadata": {},
   "outputs": [],
   "source": [
    "artifact = wandb.use_artifact('geekyrakshit/flax-vision-models/imagenet-simple-labels:v0')\n",
    "artifact_dir = artifact.download()\n",
    "imagenet_labels_file = os.path.join(artifact_dir, \"imagenet-simple-labels.json\")"
   ]
  },
  {
   "cell_type": "code",
   "execution_count": null,
   "metadata": {},
   "outputs": [],
   "source": [
    "def predict_jax(model, params, prepocessing_fn, image_file):\n",
    "    image = Image.open(image_file)\n",
    "\n",
    "    plt.imshow(image)\n",
    "    plt.show()\n",
    "\n",
    "    image = image.resize((224, 224))\n",
    "    x = tf.keras.preprocessing.image.img_to_array(image)\n",
    "    x = prepocessing_fn(x)\n",
    "    x = jnp.expand_dims(x, axis=0)\n",
    "\n",
    "    out = model.apply(params, x)\n",
    "    top5_probs, top5_classes = jax.lax.top_k(out, k=5)\n",
    "    top5_probs = jnp.squeeze(top5_probs, axis=0)\n",
    "    top5_classes = jnp.squeeze(top5_classes, axis=0)\n",
    "\n",
    "    labels = json.load(open(imagenet_labels_file))\n",
    "    for i in range(top5_classes.shape[0]):\n",
    "        print(labels[top5_classes[i]], top5_probs[i])"
   ]
  },
  {
   "cell_type": "code",
   "execution_count": null,
   "metadata": {},
   "outputs": [],
   "source": [
    "predict_jax(\n",
    "    model,\n",
    "    params,\n",
    "    tf.keras.applications.vgg19.preprocess_input,\n",
    "    '../dog.jpg'\n",
    ")"
   ]
  },
  {
   "cell_type": "code",
   "execution_count": null,
   "metadata": {},
   "outputs": [],
   "source": [
    "wandb.finish()"
   ]
  },
  {
   "cell_type": "code",
   "execution_count": null,
   "metadata": {},
   "outputs": [],
   "source": []
  }
 ],
 "metadata": {
  "interpreter": {
   "hash": "c56844588c62bf6693d5f81f7506ef2718ef7b4ec69a19d7a30df3160c8fa2ca"
  },
  "kernelspec": {
   "display_name": "Python 3.10.4 ('jax')",
   "language": "python",
   "name": "python3"
  },
  "language_info": {
   "codemirror_mode": {
    "name": "ipython",
    "version": 3
   },
   "file_extension": ".py",
   "mimetype": "text/x-python",
   "name": "python",
   "nbconvert_exporter": "python",
   "pygments_lexer": "ipython3",
   "version": "3.10.4"
  },
  "orig_nbformat": 4
 },
 "nbformat": 4,
 "nbformat_minor": 2
}
