{
  "cells": [
    {
      "cell_type": "markdown",
      "metadata": {
        "colab_type": "text",
        "id": "view-in-github"
      },
      "source": [
        "<a href=\"https://colab.research.google.com/github/soumik12345/flax-vision-models/blob/main/notebooks/inference.ipynb\" target=\"_parent\"><img src=\"https://colab.research.google.com/assets/colab-badge.svg\" alt=\"Open In Colab\"/></a>"
      ]
    },
    {
      "cell_type": "code",
      "execution_count": null,
      "metadata": {
        "colab": {
          "base_uri": "https://localhost:8080/"
        },
        "id": "jV8tpbN6dsvy",
        "outputId": "e1c3fc6c-7385-4001-e820-9ccafad4fd7a"
      },
      "outputs": [],
      "source": [
        "# Install Flax Vision Models\n",
        "!pip install -q git+https://github.com/soumik12345/flax-vision-models\n",
        "# Fetch image for inference\n",
        "!wget https://github.com/pytorch/hub/raw/master/images/dog.jpg"
      ]
    },
    {
      "cell_type": "code",
      "execution_count": null,
      "metadata": {
        "id": "iIQQEHZ_4p8v"
      },
      "outputs": [],
      "source": [
        "import jax\n",
        "import jax.numpy as jnp\n",
        "\n",
        "import os\n",
        "import wandb\n",
        "import numpy as np\n",
        "from PIL import Image\n",
        "import matplotlib.pyplot as plt\n",
        "\n",
        "from flax_vision_models.vgg import build_vgg16, preprocess as preprocess_fn\n",
        "from flax_vision_models.utils import decode_probabilities_imagenet"
      ]
    },
    {
      "cell_type": "code",
      "execution_count": null,
      "metadata": {
        "colab": {
          "base_uri": "https://localhost:8080/"
        },
        "id": "ZxdnMuCwLqYF",
        "outputId": "598e40b1-d13e-4b4d-a430-d1c49ee070fe"
      },
      "outputs": [],
      "source": [
        "model, params = build_vgg16(show_parameter_overview=True, pretrained=True)"
      ]
    },
    {
      "cell_type": "code",
      "execution_count": null,
      "metadata": {
        "id": "uQdXT9L-MCJ8"
      },
      "outputs": [],
      "source": [
        "def infer(x, model, params):\n",
        "    out = model.apply(params, x)\n",
        "    top5_probs, top5_classes = jax.lax.top_k(out, k=5)\n",
        "    top5_probs = jnp.squeeze(top5_probs, axis=0)\n",
        "    top5_classes = jnp.squeeze(top5_classes, axis=0)\n",
        "    return top5_classes, top5_probs\n",
        "\n",
        "\n",
        "def predict_jax(model, params, prepocessing_fn, image_file):\n",
        "    image = Image.open(image_file)\n",
        "\n",
        "    plt.imshow(image)\n",
        "    plt.show()\n",
        "\n",
        "    image = image.resize((224, 224))\n",
        "    x = np.array(image)\n",
        "    x = prepocessing_fn(x)\n",
        "    x = jnp.expand_dims(x, axis=0)\n",
        "\n",
        "    top5_classes, top5_probs = infer(x, model, params)\n",
        "    topk_labels, topk_probabilities = decode_probabilities_imagenet(top5_classes, top5_probs)\n",
        "    for i in range(len(topk_labels)):\n",
        "        print(topk_labels[i], topk_probabilities[i])"
      ]
    },
    {
      "cell_type": "code",
      "execution_count": null,
      "metadata": {
        "colab": {
          "base_uri": "https://localhost:8080/",
          "height": 358
        },
        "id": "ZDcB-7AEMGip",
        "outputId": "dd836285-595a-4a3e-ec06-6e5eee12dfa2"
      },
      "outputs": [],
      "source": [
        "predict_jax(model, params, preprocess_fn, './dog.jpg')"
      ]
    },
    {
      "cell_type": "code",
      "execution_count": null,
      "metadata": {
        "id": "25CZUaBIMIdT"
      },
      "outputs": [],
      "source": []
    }
  ],
  "metadata": {
    "colab": {
      "authorship_tag": "ABX9TyMLXNgWZCad3Lx8KABq+Heg",
      "collapsed_sections": [],
      "include_colab_link": true,
      "name": "inference.ipynb",
      "provenance": []
    },
    "kernelspec": {
      "display_name": "Python 3",
      "name": "python3"
    },
    "language_info": {
      "name": "python"
    }
  },
  "nbformat": 4,
  "nbformat_minor": 0
}
